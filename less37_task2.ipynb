{
 "cells": [
  {
   "cell_type": "code",
   "execution_count": 131,
   "id": "bf7c3aa6",
   "metadata": {},
   "outputs": [],
   "source": [
    "import pandas as pd\n",
    "import numpy as np\n",
    "import seaborn as sns\n",
    "import matplotlib.pyplot as plt\n",
    "from sklearn.linear_model import Ridge\n",
    "from sklearn.linear_model import Lasso\n",
    "from sklearn.model_selection import train_test_split\n",
    "from sklearn import metrics\n",
    "from sklearn.metrics import r2_score\n",
    "from sklearn.linear_model import RidgeCV\n",
    "from sklearn.linear_model import LassoCV"
   ]
  },
  {
   "cell_type": "code",
   "execution_count": 132,
   "id": "f51d7443",
   "metadata": {},
   "outputs": [
    {
     "data": {
      "text/html": [
       "<div>\n",
       "<style scoped>\n",
       "    .dataframe tbody tr th:only-of-type {\n",
       "        vertical-align: middle;\n",
       "    }\n",
       "\n",
       "    .dataframe tbody tr th {\n",
       "        vertical-align: top;\n",
       "    }\n",
       "\n",
       "    .dataframe thead th {\n",
       "        text-align: right;\n",
       "    }\n",
       "</style>\n",
       "<table border=\"1\" class=\"dataframe\">\n",
       "  <thead>\n",
       "    <tr style=\"text-align: right;\">\n",
       "      <th></th>\n",
       "      <th>0</th>\n",
       "      <th>1</th>\n",
       "      <th>2</th>\n",
       "      <th>3</th>\n",
       "      <th>4</th>\n",
       "      <th>5</th>\n",
       "      <th>6</th>\n",
       "      <th>7</th>\n",
       "      <th>8</th>\n",
       "      <th>9</th>\n",
       "      <th>...</th>\n",
       "      <th>118</th>\n",
       "      <th>119</th>\n",
       "      <th>120</th>\n",
       "      <th>121</th>\n",
       "      <th>122</th>\n",
       "      <th>123</th>\n",
       "      <th>124</th>\n",
       "      <th>125</th>\n",
       "      <th>126</th>\n",
       "      <th>127</th>\n",
       "    </tr>\n",
       "  </thead>\n",
       "  <tbody>\n",
       "    <tr>\n",
       "      <th>0</th>\n",
       "      <td>8</td>\n",
       "      <td>NaN</td>\n",
       "      <td>NaN</td>\n",
       "      <td>Lakewoodcity</td>\n",
       "      <td>1</td>\n",
       "      <td>0.19</td>\n",
       "      <td>0.33</td>\n",
       "      <td>0.02</td>\n",
       "      <td>0.90</td>\n",
       "      <td>0.12</td>\n",
       "      <td>...</td>\n",
       "      <td>0.12</td>\n",
       "      <td>0.26</td>\n",
       "      <td>0.20</td>\n",
       "      <td>0.06</td>\n",
       "      <td>0.04</td>\n",
       "      <td>0.90</td>\n",
       "      <td>0.5</td>\n",
       "      <td>0.32</td>\n",
       "      <td>0.14</td>\n",
       "      <td>0.20</td>\n",
       "    </tr>\n",
       "    <tr>\n",
       "      <th>1</th>\n",
       "      <td>53</td>\n",
       "      <td>NaN</td>\n",
       "      <td>NaN</td>\n",
       "      <td>Tukwilacity</td>\n",
       "      <td>1</td>\n",
       "      <td>0.00</td>\n",
       "      <td>0.16</td>\n",
       "      <td>0.12</td>\n",
       "      <td>0.74</td>\n",
       "      <td>0.45</td>\n",
       "      <td>...</td>\n",
       "      <td>0.02</td>\n",
       "      <td>0.12</td>\n",
       "      <td>0.45</td>\n",
       "      <td>NaN</td>\n",
       "      <td>NaN</td>\n",
       "      <td>NaN</td>\n",
       "      <td>NaN</td>\n",
       "      <td>0.00</td>\n",
       "      <td>NaN</td>\n",
       "      <td>0.67</td>\n",
       "    </tr>\n",
       "    <tr>\n",
       "      <th>2</th>\n",
       "      <td>24</td>\n",
       "      <td>NaN</td>\n",
       "      <td>NaN</td>\n",
       "      <td>Aberdeentown</td>\n",
       "      <td>1</td>\n",
       "      <td>0.00</td>\n",
       "      <td>0.42</td>\n",
       "      <td>0.49</td>\n",
       "      <td>0.56</td>\n",
       "      <td>0.17</td>\n",
       "      <td>...</td>\n",
       "      <td>0.01</td>\n",
       "      <td>0.21</td>\n",
       "      <td>0.02</td>\n",
       "      <td>NaN</td>\n",
       "      <td>NaN</td>\n",
       "      <td>NaN</td>\n",
       "      <td>NaN</td>\n",
       "      <td>0.00</td>\n",
       "      <td>NaN</td>\n",
       "      <td>0.43</td>\n",
       "    </tr>\n",
       "    <tr>\n",
       "      <th>3</th>\n",
       "      <td>34</td>\n",
       "      <td>5.0</td>\n",
       "      <td>81440.0</td>\n",
       "      <td>Willingborotownship</td>\n",
       "      <td>1</td>\n",
       "      <td>0.04</td>\n",
       "      <td>0.77</td>\n",
       "      <td>1.00</td>\n",
       "      <td>0.08</td>\n",
       "      <td>0.12</td>\n",
       "      <td>...</td>\n",
       "      <td>0.02</td>\n",
       "      <td>0.39</td>\n",
       "      <td>0.28</td>\n",
       "      <td>NaN</td>\n",
       "      <td>NaN</td>\n",
       "      <td>NaN</td>\n",
       "      <td>NaN</td>\n",
       "      <td>0.00</td>\n",
       "      <td>NaN</td>\n",
       "      <td>0.12</td>\n",
       "    </tr>\n",
       "    <tr>\n",
       "      <th>4</th>\n",
       "      <td>42</td>\n",
       "      <td>95.0</td>\n",
       "      <td>6096.0</td>\n",
       "      <td>Bethlehemtownship</td>\n",
       "      <td>1</td>\n",
       "      <td>0.01</td>\n",
       "      <td>0.55</td>\n",
       "      <td>0.02</td>\n",
       "      <td>0.95</td>\n",
       "      <td>0.09</td>\n",
       "      <td>...</td>\n",
       "      <td>0.04</td>\n",
       "      <td>0.09</td>\n",
       "      <td>0.02</td>\n",
       "      <td>NaN</td>\n",
       "      <td>NaN</td>\n",
       "      <td>NaN</td>\n",
       "      <td>NaN</td>\n",
       "      <td>0.00</td>\n",
       "      <td>NaN</td>\n",
       "      <td>0.03</td>\n",
       "    </tr>\n",
       "    <tr>\n",
       "      <th>...</th>\n",
       "      <td>...</td>\n",
       "      <td>...</td>\n",
       "      <td>...</td>\n",
       "      <td>...</td>\n",
       "      <td>...</td>\n",
       "      <td>...</td>\n",
       "      <td>...</td>\n",
       "      <td>...</td>\n",
       "      <td>...</td>\n",
       "      <td>...</td>\n",
       "      <td>...</td>\n",
       "      <td>...</td>\n",
       "      <td>...</td>\n",
       "      <td>...</td>\n",
       "      <td>...</td>\n",
       "      <td>...</td>\n",
       "      <td>...</td>\n",
       "      <td>...</td>\n",
       "      <td>...</td>\n",
       "      <td>...</td>\n",
       "      <td>...</td>\n",
       "    </tr>\n",
       "    <tr>\n",
       "      <th>1989</th>\n",
       "      <td>12</td>\n",
       "      <td>NaN</td>\n",
       "      <td>NaN</td>\n",
       "      <td>TempleTerracecity</td>\n",
       "      <td>10</td>\n",
       "      <td>0.01</td>\n",
       "      <td>0.40</td>\n",
       "      <td>0.10</td>\n",
       "      <td>0.87</td>\n",
       "      <td>0.12</td>\n",
       "      <td>...</td>\n",
       "      <td>0.01</td>\n",
       "      <td>0.28</td>\n",
       "      <td>0.05</td>\n",
       "      <td>NaN</td>\n",
       "      <td>NaN</td>\n",
       "      <td>NaN</td>\n",
       "      <td>NaN</td>\n",
       "      <td>0.00</td>\n",
       "      <td>NaN</td>\n",
       "      <td>0.09</td>\n",
       "    </tr>\n",
       "    <tr>\n",
       "      <th>1990</th>\n",
       "      <td>6</td>\n",
       "      <td>NaN</td>\n",
       "      <td>NaN</td>\n",
       "      <td>Seasidecity</td>\n",
       "      <td>10</td>\n",
       "      <td>0.05</td>\n",
       "      <td>0.96</td>\n",
       "      <td>0.46</td>\n",
       "      <td>0.28</td>\n",
       "      <td>0.83</td>\n",
       "      <td>...</td>\n",
       "      <td>0.02</td>\n",
       "      <td>0.37</td>\n",
       "      <td>0.20</td>\n",
       "      <td>NaN</td>\n",
       "      <td>NaN</td>\n",
       "      <td>NaN</td>\n",
       "      <td>NaN</td>\n",
       "      <td>0.00</td>\n",
       "      <td>NaN</td>\n",
       "      <td>0.45</td>\n",
       "    </tr>\n",
       "    <tr>\n",
       "      <th>1991</th>\n",
       "      <td>9</td>\n",
       "      <td>9.0</td>\n",
       "      <td>80070.0</td>\n",
       "      <td>Waterburytown</td>\n",
       "      <td>10</td>\n",
       "      <td>0.16</td>\n",
       "      <td>0.37</td>\n",
       "      <td>0.25</td>\n",
       "      <td>0.69</td>\n",
       "      <td>0.04</td>\n",
       "      <td>...</td>\n",
       "      <td>0.08</td>\n",
       "      <td>0.32</td>\n",
       "      <td>0.18</td>\n",
       "      <td>0.08</td>\n",
       "      <td>0.06</td>\n",
       "      <td>0.78</td>\n",
       "      <td>0.0</td>\n",
       "      <td>0.91</td>\n",
       "      <td>0.28</td>\n",
       "      <td>0.23</td>\n",
       "    </tr>\n",
       "    <tr>\n",
       "      <th>1992</th>\n",
       "      <td>25</td>\n",
       "      <td>17.0</td>\n",
       "      <td>72600.0</td>\n",
       "      <td>Walthamcity</td>\n",
       "      <td>10</td>\n",
       "      <td>0.08</td>\n",
       "      <td>0.51</td>\n",
       "      <td>0.06</td>\n",
       "      <td>0.87</td>\n",
       "      <td>0.22</td>\n",
       "      <td>...</td>\n",
       "      <td>0.03</td>\n",
       "      <td>0.38</td>\n",
       "      <td>0.33</td>\n",
       "      <td>0.02</td>\n",
       "      <td>0.02</td>\n",
       "      <td>0.79</td>\n",
       "      <td>0.0</td>\n",
       "      <td>0.22</td>\n",
       "      <td>0.18</td>\n",
       "      <td>0.19</td>\n",
       "    </tr>\n",
       "    <tr>\n",
       "      <th>1993</th>\n",
       "      <td>6</td>\n",
       "      <td>NaN</td>\n",
       "      <td>NaN</td>\n",
       "      <td>Ontariocity</td>\n",
       "      <td>10</td>\n",
       "      <td>0.20</td>\n",
       "      <td>0.78</td>\n",
       "      <td>0.14</td>\n",
       "      <td>0.46</td>\n",
       "      <td>0.24</td>\n",
       "      <td>...</td>\n",
       "      <td>0.11</td>\n",
       "      <td>0.30</td>\n",
       "      <td>0.05</td>\n",
       "      <td>0.08</td>\n",
       "      <td>0.04</td>\n",
       "      <td>0.73</td>\n",
       "      <td>0.5</td>\n",
       "      <td>1.00</td>\n",
       "      <td>0.13</td>\n",
       "      <td>0.48</td>\n",
       "    </tr>\n",
       "  </tbody>\n",
       "</table>\n",
       "<p>1994 rows × 128 columns</p>\n",
       "</div>"
      ],
      "text/plain": [
       "      0     1        2                    3    4     5     6     7     8    \\\n",
       "0       8   NaN      NaN         Lakewoodcity    1  0.19  0.33  0.02  0.90   \n",
       "1      53   NaN      NaN          Tukwilacity    1  0.00  0.16  0.12  0.74   \n",
       "2      24   NaN      NaN         Aberdeentown    1  0.00  0.42  0.49  0.56   \n",
       "3      34   5.0  81440.0  Willingborotownship    1  0.04  0.77  1.00  0.08   \n",
       "4      42  95.0   6096.0    Bethlehemtownship    1  0.01  0.55  0.02  0.95   \n",
       "...   ...   ...      ...                  ...  ...   ...   ...   ...   ...   \n",
       "1989   12   NaN      NaN    TempleTerracecity   10  0.01  0.40  0.10  0.87   \n",
       "1990    6   NaN      NaN          Seasidecity   10  0.05  0.96  0.46  0.28   \n",
       "1991    9   9.0  80070.0        Waterburytown   10  0.16  0.37  0.25  0.69   \n",
       "1992   25  17.0  72600.0          Walthamcity   10  0.08  0.51  0.06  0.87   \n",
       "1993    6   NaN      NaN          Ontariocity   10  0.20  0.78  0.14  0.46   \n",
       "\n",
       "       9    ...   118   119   120   121   122   123  124   125   126   127  \n",
       "0     0.12  ...  0.12  0.26  0.20  0.06  0.04  0.90  0.5  0.32  0.14  0.20  \n",
       "1     0.45  ...  0.02  0.12  0.45   NaN   NaN   NaN  NaN  0.00   NaN  0.67  \n",
       "2     0.17  ...  0.01  0.21  0.02   NaN   NaN   NaN  NaN  0.00   NaN  0.43  \n",
       "3     0.12  ...  0.02  0.39  0.28   NaN   NaN   NaN  NaN  0.00   NaN  0.12  \n",
       "4     0.09  ...  0.04  0.09  0.02   NaN   NaN   NaN  NaN  0.00   NaN  0.03  \n",
       "...    ...  ...   ...   ...   ...   ...   ...   ...  ...   ...   ...   ...  \n",
       "1989  0.12  ...  0.01  0.28  0.05   NaN   NaN   NaN  NaN  0.00   NaN  0.09  \n",
       "1990  0.83  ...  0.02  0.37  0.20   NaN   NaN   NaN  NaN  0.00   NaN  0.45  \n",
       "1991  0.04  ...  0.08  0.32  0.18  0.08  0.06  0.78  0.0  0.91  0.28  0.23  \n",
       "1992  0.22  ...  0.03  0.38  0.33  0.02  0.02  0.79  0.0  0.22  0.18  0.19  \n",
       "1993  0.24  ...  0.11  0.30  0.05  0.08  0.04  0.73  0.5  1.00  0.13  0.48  \n",
       "\n",
       "[1994 rows x 128 columns]"
      ]
     },
     "execution_count": 132,
     "metadata": {},
     "output_type": "execute_result"
    }
   ],
   "source": [
    "data = pd.read_csv('communities.csv', header=None, na_values=['?'])\n",
    "data"
   ]
  },
  {
   "cell_type": "code",
   "execution_count": 133,
   "id": "113a6176",
   "metadata": {},
   "outputs": [],
   "source": [
    "#Треба підготувати датасет для створення моделі"
   ]
  },
  {
   "cell_type": "code",
   "execution_count": 134,
   "id": "bf42c7c5",
   "metadata": {},
   "outputs": [
    {
     "data": {
      "text/plain": [
       "<AxesSubplot:>"
      ]
     },
     "execution_count": 134,
     "metadata": {},
     "output_type": "execute_result"
    },
    {
     "data": {
      "image/png": "[encoded data removed]",
      "text/plain": [
       "<Figure size 2400x800 with 1 Axes>"
      ]
     },
     "metadata": {},
     "output_type": "display_data"
    }
   ],
   "source": [
    "#робимо хітмап щоб побачити де не вистачає даних\n",
    "plt.figure(figsize=(24, 8))\n",
    "sns.heatmap(data.isnull(),yticklabels=False, cmap='plasma', cbar=False)"
   ]
  },
  {
   "cell_type": "code",
   "execution_count": 135,
   "id": "e7c897a0",
   "metadata": {},
   "outputs": [],
   "source": [
    "#Прибираємо стовпці з 1 по 5, які не будемо застосовувати, а також  видаляємо рядки з пропущеними даними.\n",
    "data.drop([0,1,2,3,4], axis=1, inplace=True)\n",
    "data.dropna(inplace=True)"
   ]
  },
  {
   "cell_type": "code",
   "execution_count": 136,
   "id": "6275da39",
   "metadata": {},
   "outputs": [
    {
     "data": {
      "text/plain": [
       "<AxesSubplot:>"
      ]
     },
     "execution_count": 136,
     "metadata": {},
     "output_type": "execute_result"
    },
    {
     "data": {
      "image/png": "[encoded data removed]",
      "text/plain": [
       "<Figure size 2400x800 with 1 Axes>"
      ]
     },
     "metadata": {},
     "output_type": "display_data"
    }
   ],
   "source": [
    "#Будуэмо заново хітмап щоб оцінити результат, чи залишились пропущені значення\n",
    "plt.figure(figsize=(24, 8))\n",
    "sns.heatmap(data.isnull(),yticklabels=False,cbar=False, cmap='plasma')"
   ]
  },
  {
   "cell_type": "code",
   "execution_count": 137,
   "id": "2f9f7dca",
   "metadata": {},
   "outputs": [],
   "source": [
    "#Присвоюємо X та y для створення моделі\n",
    "X = data.drop(127, axis=1)\n",
    "y = data[127]\n",
    "\n",
    "# Розділяємо модель на трейн та тест\n",
    "X_train, X_test, y_train, y_test = train_test_split(X, y,test_size = 0.3, random_state=1)"
   ]
  },
  {
   "cell_type": "code",
   "execution_count": 138,
   "id": "1883d998",
   "metadata": {},
   "outputs": [
    {
     "data": {
      "text/plain": [
       "10.0"
      ]
     },
     "execution_count": 138,
     "metadata": {},
     "output_type": "execute_result"
    }
   ],
   "source": [
    "#Тут ми перевіряємо який параметр альфа нам підходить найкраще для гребеневої регресії і підставляємо в наступний код\n",
    "alphas = [0.1, 1, 10, 100]\n",
    "ridgecv = RidgeCV(alphas=alphas, cv=5)\n",
    "ridgecv.fit(X_train, y_train)\n",
    "ridgecv.alpha_"
   ]
  },
  {
   "cell_type": "code",
   "execution_count": 139,
   "id": "9d5bf5e8",
   "metadata": {},
   "outputs": [
    {
     "name": "stdout",
     "output_type": "stream",
     "text": [
      "R-Square Value (Ridge) 0.5442422344114584\n",
      "mean_absolute_error (Ridge) : 0.13277523657131599\n",
      "mean_squared_error (Ridge) :  0.028302512735454134\n",
      "root_mean_squared_error (Ridge) :  0.1682335065777746\n"
     ]
    }
   ],
   "source": [
    "#Робимо гребеневу регресію з показником альфа=10 та виводимо показники\n",
    "ridgereg = Ridge(alpha=ridgecv.alpha_)\n",
    "ridgereg.fit(X_train, y_train)\n",
    "y_pred = ridgereg.predict(X_test)\n",
    "\n",
    "print(\"R-Square Value (Ridge)\",r2_score(y_test,y_pred))\n",
    "print (\"mean_absolute_error (Ridge) :\",metrics.mean_absolute_error(y_test, y_pred))\n",
    "print (\"mean_squared_error (Ridge) : \",metrics.mean_squared_error(y_test, y_pred))\n",
    "print (\"root_mean_squared_error (Ridge) : \",np.sqrt(metrics.mean_squared_error(y_test, y_pred)))"
   ]
  },
  {
   "cell_type": "code",
   "execution_count": 146,
   "id": "f3dc9066",
   "metadata": {},
   "outputs": [
    {
     "name": "stderr",
     "output_type": "stream",
     "text": [
      "C:\\anaconda3\\lib\\site-packages\\sklearn\\linear_model\\_coordinate_descent.py:633: ConvergenceWarning: Objective did not converge. You might want to increase the number of iterations. Duality gap: 0.006192779662534953, tolerance: 0.0014395706179775281\n",
      "  model = cd_fast.enet_coordinate_descent_gram(\n",
      "C:\\anaconda3\\lib\\site-packages\\sklearn\\linear_model\\_coordinate_descent.py:633: ConvergenceWarning: Objective did not converge. You might want to increase the number of iterations. Duality gap: 0.00585876491137749, tolerance: 0.0014395706179775281\n",
      "  model = cd_fast.enet_coordinate_descent_gram(\n",
      "C:\\anaconda3\\lib\\site-packages\\sklearn\\linear_model\\_coordinate_descent.py:633: ConvergenceWarning: Objective did not converge. You might want to increase the number of iterations. Duality gap: 0.010345749713573937, tolerance: 0.0014395706179775281\n",
      "  model = cd_fast.enet_coordinate_descent_gram(\n",
      "C:\\anaconda3\\lib\\site-packages\\sklearn\\linear_model\\_coordinate_descent.py:633: ConvergenceWarning: Objective did not converge. You might want to increase the number of iterations. Duality gap: 0.020415407898719984, tolerance: 0.0014395706179775281\n",
      "  model = cd_fast.enet_coordinate_descent_gram(\n",
      "C:\\anaconda3\\lib\\site-packages\\sklearn\\linear_model\\_coordinate_descent.py:633: ConvergenceWarning: Objective did not converge. You might want to increase the number of iterations. Duality gap: 0.040709912248512836, tolerance: 0.0014395706179775281\n",
      "  model = cd_fast.enet_coordinate_descent_gram(\n",
      "C:\\anaconda3\\lib\\site-packages\\sklearn\\linear_model\\_coordinate_descent.py:633: ConvergenceWarning: Objective did not converge. You might want to increase the number of iterations. Duality gap: 0.05524943171134189, tolerance: 0.0014395706179775281\n",
      "  model = cd_fast.enet_coordinate_descent_gram(\n",
      "C:\\anaconda3\\lib\\site-packages\\sklearn\\linear_model\\_coordinate_descent.py:633: ConvergenceWarning: Objective did not converge. You might want to increase the number of iterations. Duality gap: 0.05160993136662473, tolerance: 0.0014395706179775281\n",
      "  model = cd_fast.enet_coordinate_descent_gram(\n",
      "C:\\anaconda3\\lib\\site-packages\\sklearn\\linear_model\\_coordinate_descent.py:633: ConvergenceWarning: Objective did not converge. You might want to increase the number of iterations. Duality gap: 0.0016561767750693512, tolerance: 0.001404108988764045\n",
      "  model = cd_fast.enet_coordinate_descent_gram(\n",
      "C:\\anaconda3\\lib\\site-packages\\sklearn\\linear_model\\_coordinate_descent.py:633: ConvergenceWarning: Objective did not converge. You might want to increase the number of iterations. Duality gap: 0.0023940126212274038, tolerance: 0.001404108988764045\n",
      "  model = cd_fast.enet_coordinate_descent_gram(\n",
      "C:\\anaconda3\\lib\\site-packages\\sklearn\\linear_model\\_coordinate_descent.py:633: ConvergenceWarning: Objective did not converge. You might want to increase the number of iterations. Duality gap: 0.004125389914364286, tolerance: 0.001404108988764045\n",
      "  model = cd_fast.enet_coordinate_descent_gram(\n",
      "C:\\anaconda3\\lib\\site-packages\\sklearn\\linear_model\\_coordinate_descent.py:633: ConvergenceWarning: Objective did not converge. You might want to increase the number of iterations. Duality gap: 0.006368976049194064, tolerance: 0.001404108988764045\n",
      "  model = cd_fast.enet_coordinate_descent_gram(\n",
      "C:\\anaconda3\\lib\\site-packages\\sklearn\\linear_model\\_coordinate_descent.py:633: ConvergenceWarning: Objective did not converge. You might want to increase the number of iterations. Duality gap: 0.005106053031792346, tolerance: 0.001404108988764045\n",
      "  model = cd_fast.enet_coordinate_descent_gram(\n",
      "C:\\anaconda3\\lib\\site-packages\\sklearn\\linear_model\\_coordinate_descent.py:633: ConvergenceWarning: Objective did not converge. You might want to increase the number of iterations. Duality gap: 0.00490793516047372, tolerance: 0.001404108988764045\n",
      "  model = cd_fast.enet_coordinate_descent_gram(\n",
      "C:\\anaconda3\\lib\\site-packages\\sklearn\\linear_model\\_coordinate_descent.py:633: ConvergenceWarning: Objective did not converge. You might want to increase the number of iterations. Duality gap: 0.00661306835194142, tolerance: 0.001404108988764045\n",
      "  model = cd_fast.enet_coordinate_descent_gram(\n",
      "C:\\anaconda3\\lib\\site-packages\\sklearn\\linear_model\\_coordinate_descent.py:633: ConvergenceWarning: Objective did not converge. You might want to increase the number of iterations. Duality gap: 0.014859081292391885, tolerance: 0.001404108988764045\n",
      "  model = cd_fast.enet_coordinate_descent_gram(\n",
      "C:\\anaconda3\\lib\\site-packages\\sklearn\\linear_model\\_coordinate_descent.py:633: ConvergenceWarning: Objective did not converge. You might want to increase the number of iterations. Duality gap: 0.019061413238382396, tolerance: 0.001404108988764045\n",
      "  model = cd_fast.enet_coordinate_descent_gram(\n",
      "C:\\anaconda3\\lib\\site-packages\\sklearn\\linear_model\\_coordinate_descent.py:633: ConvergenceWarning: Objective did not converge. You might want to increase the number of iterations. Duality gap: 0.01855320664384541, tolerance: 0.001404108988764045\n",
      "  model = cd_fast.enet_coordinate_descent_gram(\n",
      "C:\\anaconda3\\lib\\site-packages\\sklearn\\linear_model\\_coordinate_descent.py:633: ConvergenceWarning: Objective did not converge. You might want to increase the number of iterations. Duality gap: 0.018164346898361217, tolerance: 0.001404108988764045\n",
      "  model = cd_fast.enet_coordinate_descent_gram(\n",
      "C:\\anaconda3\\lib\\site-packages\\sklearn\\linear_model\\_coordinate_descent.py:633: ConvergenceWarning: Objective did not converge. You might want to increase the number of iterations. Duality gap: 0.0022094077925478572, tolerance: 0.0014603528089887643\n",
      "  model = cd_fast.enet_coordinate_descent_gram(\n",
      "C:\\anaconda3\\lib\\site-packages\\sklearn\\linear_model\\_coordinate_descent.py:633: ConvergenceWarning: Objective did not converge. You might want to increase the number of iterations. Duality gap: 0.002048563625204114, tolerance: 0.0014603528089887643\n",
      "  model = cd_fast.enet_coordinate_descent_gram(\n",
      "C:\\anaconda3\\lib\\site-packages\\sklearn\\linear_model\\_coordinate_descent.py:633: ConvergenceWarning: Objective did not converge. You might want to increase the number of iterations. Duality gap: 0.009297793715985492, tolerance: 0.0014603528089887643\n",
      "  model = cd_fast.enet_coordinate_descent_gram(\n",
      "C:\\anaconda3\\lib\\site-packages\\sklearn\\linear_model\\_coordinate_descent.py:633: ConvergenceWarning: Objective did not converge. You might want to increase the number of iterations. Duality gap: 0.01137335724184263, tolerance: 0.0014603528089887643\n",
      "  model = cd_fast.enet_coordinate_descent_gram(\n",
      "C:\\anaconda3\\lib\\site-packages\\sklearn\\linear_model\\_coordinate_descent.py:633: ConvergenceWarning: Objective did not converge. You might want to increase the number of iterations. Duality gap: 0.026663807867456146, tolerance: 0.0014603528089887643\n",
      "  model = cd_fast.enet_coordinate_descent_gram(\n",
      "C:\\anaconda3\\lib\\site-packages\\sklearn\\linear_model\\_coordinate_descent.py:633: ConvergenceWarning: Objective did not converge. You might want to increase the number of iterations. Duality gap: 0.0458469428829944, tolerance: 0.0014603528089887643\n",
      "  model = cd_fast.enet_coordinate_descent_gram(\n",
      "C:\\anaconda3\\lib\\site-packages\\sklearn\\linear_model\\_coordinate_descent.py:633: ConvergenceWarning: Objective did not converge. You might want to increase the number of iterations. Duality gap: 0.05581540946480512, tolerance: 0.0014603528089887643\n",
      "  model = cd_fast.enet_coordinate_descent_gram(\n",
      "C:\\anaconda3\\lib\\site-packages\\sklearn\\linear_model\\_coordinate_descent.py:633: ConvergenceWarning: Objective did not converge. You might want to increase the number of iterations. Duality gap: 0.06589418145033998, tolerance: 0.0014603528089887643\n",
      "  model = cd_fast.enet_coordinate_descent_gram(\n",
      "C:\\anaconda3\\lib\\site-packages\\sklearn\\linear_model\\_coordinate_descent.py:633: ConvergenceWarning: Objective did not converge. You might want to increase the number of iterations. Duality gap: 0.0015784061486590062, tolerance: 0.0015022610055865923\n",
      "  model = cd_fast.enet_coordinate_descent_gram(\n",
      "C:\\anaconda3\\lib\\site-packages\\sklearn\\linear_model\\_coordinate_descent.py:633: ConvergenceWarning: Objective did not converge. You might want to increase the number of iterations. Duality gap: 0.0034531973393889803, tolerance: 0.0015022610055865923\n",
      "  model = cd_fast.enet_coordinate_descent_gram(\n",
      "C:\\anaconda3\\lib\\site-packages\\sklearn\\linear_model\\_coordinate_descent.py:633: ConvergenceWarning: Objective did not converge. You might want to increase the number of iterations. Duality gap: 0.006437533957875274, tolerance: 0.0015022610055865923\n",
      "  model = cd_fast.enet_coordinate_descent_gram(\n"
     ]
    },
    {
     "name": "stderr",
     "output_type": "stream",
     "text": [
      "C:\\anaconda3\\lib\\site-packages\\sklearn\\linear_model\\_coordinate_descent.py:633: ConvergenceWarning: Objective did not converge. You might want to increase the number of iterations. Duality gap: 0.010904864881303489, tolerance: 0.0015043519553072629\n",
      "  model = cd_fast.enet_coordinate_descent_gram(\n",
      "C:\\anaconda3\\lib\\site-packages\\sklearn\\linear_model\\_coordinate_descent.py:633: ConvergenceWarning: Objective did not converge. You might want to increase the number of iterations. Duality gap: 0.0015950450620310086, tolerance: 0.0015043519553072629\n",
      "  model = cd_fast.enet_coordinate_descent_gram(\n",
      "C:\\anaconda3\\lib\\site-packages\\sklearn\\linear_model\\_coordinate_descent.py:633: ConvergenceWarning: Objective did not converge. You might want to increase the number of iterations. Duality gap: 0.00803729616882376, tolerance: 0.0015043519553072629\n",
      "  model = cd_fast.enet_coordinate_descent_gram(\n",
      "C:\\anaconda3\\lib\\site-packages\\sklearn\\linear_model\\_coordinate_descent.py:633: ConvergenceWarning: Objective did not converge. You might want to increase the number of iterations. Duality gap: 0.048321421931043496, tolerance: 0.0015043519553072629\n",
      "  model = cd_fast.enet_coordinate_descent_gram(\n",
      "C:\\anaconda3\\lib\\site-packages\\sklearn\\linear_model\\_coordinate_descent.py:633: ConvergenceWarning: Objective did not converge. You might want to increase the number of iterations. Duality gap: 0.08984254081545329, tolerance: 0.0015043519553072629\n",
      "  model = cd_fast.enet_coordinate_descent_gram(\n",
      "C:\\anaconda3\\lib\\site-packages\\sklearn\\linear_model\\_base.py:141: FutureWarning: 'normalize' was deprecated in version 1.0 and will be removed in 1.2.\n",
      "If you wish to scale the data, use Pipeline with a StandardScaler in a preprocessing stage. To reproduce the previous behavior:\n",
      "\n",
      "from sklearn.pipeline import make_pipeline\n",
      "\n",
      "model = make_pipeline(StandardScaler(with_mean=False), Lasso())\n",
      "\n",
      "If you wish to pass a sample_weight parameter, you need to pass it as a fit parameter to each step of the pipeline as follows:\n",
      "\n",
      "kwargs = {s[0] + '__sample_weight': sample_weight for s in model.steps}\n",
      "model.fit(X, y, **kwargs)\n",
      "\n",
      "Set parameter alpha to: original_alpha * np.sqrt(n_samples). \n",
      "  warnings.warn(\n"
     ]
    },
    {
     "data": {
      "text/plain": [
       "0.0016225973248853132"
      ]
     },
     "execution_count": 146,
     "metadata": {},
     "output_type": "execute_result"
    }
   ],
   "source": [
    "#Перевіряємо який параметр альфа нам підходить найкраще для ласо регресії і підставляємо в наступний код\n",
    "lassoregcv = LassoCV(n_alphas=70, normalize=True, random_state=1)\n",
    "lassoregcv.fit(X_train, y_train)\n",
    "lassoregcv.alpha_"
   ]
  },
  {
   "cell_type": "code",
   "execution_count": 141,
   "id": "787ae7d2",
   "metadata": {},
   "outputs": [
    {
     "name": "stderr",
     "output_type": "stream",
     "text": [
      "C:\\anaconda3\\lib\\site-packages\\sklearn\\linear_model\\_base.py:141: FutureWarning: 'normalize' was deprecated in version 1.0 and will be removed in 1.2.\n",
      "If you wish to scale the data, use Pipeline with a StandardScaler in a preprocessing stage. To reproduce the previous behavior:\n",
      "\n",
      "from sklearn.pipeline import make_pipeline\n",
      "\n",
      "model = make_pipeline(StandardScaler(with_mean=False), Lasso())\n",
      "\n",
      "If you wish to pass a sample_weight parameter, you need to pass it as a fit parameter to each step of the pipeline as follows:\n",
      "\n",
      "kwargs = {s[0] + '__sample_weight': sample_weight for s in model.steps}\n",
      "model.fit(X, y, **kwargs)\n",
      "\n",
      "Set parameter alpha to: original_alpha * np.sqrt(n_samples). \n",
      "  warnings.warn(\n"
     ]
    }
   ],
   "source": [
    "#Робимо лассо регуляризацію з отриманою альфа 0.0016\n",
    "lassoreg = Lasso(alpha=lassoregcv.alpha_, normalize=True)\n",
    "lassoreg.fit(X_train, y_train)\n",
    "y_pred = lassoreg.predict(X_test)"
   ]
  },
  {
   "cell_type": "code",
   "execution_count": 147,
   "id": "fddd01f8",
   "metadata": {},
   "outputs": [
    {
     "name": "stdout",
     "output_type": "stream",
     "text": [
      "R-Square Value (lasso) 0.5505334850688206\n",
      "mean_absolute_error (lasso) : 0.13410907085850202\n",
      "mean_squared_error (lasso) :  0.02791182668401189\n",
      "root_mean_squared_error (lasso) :  0.16706832938654737\n"
     ]
    }
   ],
   "source": [
    "#виводимо показники оцінки якості моделі (лассо регресії)\n",
    "print(\"R-Square Value (lasso)\",r2_score(y_test,y_pred))\n",
    "print (\"mean_absolute_error (lasso) :\",metrics.mean_absolute_error(y_test, y_pred))\n",
    "print (\"mean_squared_error (lasso) : \",metrics.mean_squared_error(y_test, y_pred))\n",
    "print (\"root_mean_squared_error (lasso) : \",np.sqrt(metrics.mean_squared_error(y_test, y_pred)))"
   ]
  },
  {
   "cell_type": "code",
   "execution_count": 148,
   "id": "9b5763b4",
   "metadata": {},
   "outputs": [
    {
     "data": {
      "text/plain": [
       "'\\nОтже, по показниками оцінки якості моделі ми бачимо що вони майже однакові, і в даній задачі можна застосовувати як гребеневу\\nрегуляризацію, так і ласо. Але все одно середній результат коеф. детермінації не занадто високий.\\n'"
      ]
     },
     "execution_count": 148,
     "metadata": {},
     "output_type": "execute_result"
    }
   ],
   "source": [
    "'''\n",
    "Отже, по показниками оцінки якості моделі ми бачимо що вони майже однакові, і в даній задачі можна застосовувати як гребеневу\n",
    "регуляризацію, так і ласо. Але все одно середній результат коеф. детермінації не занадто високий, що свідчить про\n",
    "модель має досить середній показник точності прогнозування моделі.\n",
    "'''"
   ]
  }
 ],
 "metadata": {
  "kernelspec": {
   "display_name": "Python 3 (ipykernel)",
   "language": "python",
   "name": "python3"
  },
  "language_info": {
   "codemirror_mode": {
    "name": "ipython",
    "version": 3
   },
   "file_extension": ".py",
   "mimetype": "text/x-python",
   "name": "python",
   "nbconvert_exporter": "python",
   "pygments_lexer": "ipython3",
   "version": "3.9.13"
  }
 },
 "nbformat": 4,
 "nbformat_minor": 5
}
